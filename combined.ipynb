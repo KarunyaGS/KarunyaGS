{
  "cells": [
    {
      "cell_type": "markdown",
      "metadata": {
        "id": "view-in-github",
        "colab_type": "text"
      },
      "source": [
        "<a href=\"https://colab.research.google.com/github/KarunyaGS/KarunyaGS/blob/main/combined.ipynb\" target=\"_parent\"><img src=\"https://colab.research.google.com/assets/colab-badge.svg\" alt=\"Open In Colab\"/></a>"
      ]
    },
    {
      "cell_type": "markdown",
      "metadata": {
        "id": "ElHiPzneAlDl"
      },
      "source": [
        "<b><h2>Project payirseAI 🌱</h2></b>\n",
        "\n",
        "\n",
        "\n"
      ]
    },
    {
      "cell_type": "code",
      "source": [
        "from google.colab import drive\n",
        "drive.mount('/content/drive')"
      ],
      "metadata": {
        "id": "iFLL2GRxw8Vj"
      },
      "execution_count": null,
      "outputs": []
    },
    {
      "cell_type": "code",
      "execution_count": null,
      "metadata": {
        "id": "lnbgQwiZSKuO"
      },
      "outputs": [],
      "source": [
        "import numpy as np\n",
        "import pandas as pd\n",
        "import tensorflow as tf\n",
        "import joblib\n",
        "from sklearn.model_selection import train_test_split\n",
        "from sklearn.preprocessing import OneHotEncoder, StandardScaler\n",
        "from sklearn.compose import ColumnTransformer\n",
        "from sklearn.pipeline import Pipeline\n",
        "from tensorflow.keras.models import Sequential\n",
        "from tensorflow.keras.layers import Dense"
      ]
    },
    {
      "cell_type": "code",
      "execution_count": null,
      "metadata": {
        "id": "zTU1Xtv2STtE",
        "colab": {
          "base_uri": "https://localhost:8080/"
        },
        "outputId": "63e1a6f4-4f9c-4e54-ab97-8b2f32024e8e"
      },
      "outputs": [
        {
          "output_type": "stream",
          "name": "stdout",
          "text": [
            "Mounted at /content/drive\n"
          ]
        }
      ],
      "source": [
        "# Mount Google Drive\n",
        "from google.colab import drive\n",
        "drive.mount('/content/drive')"
      ]
    },
    {
      "cell_type": "code",
      "execution_count": null,
      "metadata": {
        "id": "3eoZ1rpmSee0"
      },
      "outputs": [],
      "source": [
        "# Load the dataset and preprocess\n",
        "df = pd.read_csv(\"/content/drive/MyDrive/India Agriculture Crop Production(1).csv\")\n",
        "df.dropna(inplace=True)"
      ]
    },
    {
      "cell_type": "code",
      "source": [
        "df.head()\n"
      ],
      "metadata": {
        "id": "HFMkyhGJbueY",
        "colab": {
          "base_uri": "https://localhost:8080/",
          "height": 397
        },
        "outputId": "2afe384c-4fd7-4875-d2d4-312955c07bb6"
      },
      "execution_count": null,
      "outputs": [
        {
          "output_type": "execute_result",
          "data": {
            "text/plain": [
              "                         State                  District      Crop  Year  \\\n",
              "0  Andaman and Nicobar Islands                  NICOBARS  Arecanut  2001   \n",
              "1  Andaman and Nicobar Islands                  NICOBARS  Arecanut  2002   \n",
              "2  Andaman and Nicobar Islands                  NICOBARS  Arecanut  2003   \n",
              "3  Andaman and Nicobar Islands  NORTH AND MIDDLE ANDAMAN  Arecanut  2001   \n",
              "4  Andaman and Nicobar Islands            SOUTH ANDAMANS  Arecanut  2002   \n",
              "\n",
              "       Season    Area  Production     Yield    Rainfall        pH  N (mg/kg)  \\\n",
              "0      Kharif  1254.0      2061.0  1.643541  137.452636  8.208627  18.616828   \n",
              "1  Whole Year  1258.0      2083.0  1.655803  120.422686  6.817746  49.884226   \n",
              "2  Whole Year  1261.0      1525.0  1.209358  146.864139  5.336782  24.589694   \n",
              "3      Kharif  3100.0      5239.0  1.690000  203.303588  5.959973  27.587975   \n",
              "4  Whole Year  3105.0      5267.0  1.696296  291.528307  5.143956  15.146432   \n",
              "\n",
              "    P (mg/kg)   K (mg/kg)  \n",
              "0  481.139329  136.507537  \n",
              "1  296.180997   59.814919  \n",
              "2  781.487473  176.705141  \n",
              "3  563.719325   96.295588  \n",
              "4  460.177869  120.172710  "
            ],
            "text/html": [
              "\n",
              "  <div id=\"df-75616538-86f9-4305-a583-fd932f301acb\" class=\"colab-df-container\">\n",
              "    <div>\n",
              "<style scoped>\n",
              "    .dataframe tbody tr th:only-of-type {\n",
              "        vertical-align: middle;\n",
              "    }\n",
              "\n",
              "    .dataframe tbody tr th {\n",
              "        vertical-align: top;\n",
              "    }\n",
              "\n",
              "    .dataframe thead th {\n",
              "        text-align: right;\n",
              "    }\n",
              "</style>\n",
              "<table border=\"1\" class=\"dataframe\">\n",
              "  <thead>\n",
              "    <tr style=\"text-align: right;\">\n",
              "      <th></th>\n",
              "      <th>State</th>\n",
              "      <th>District</th>\n",
              "      <th>Crop</th>\n",
              "      <th>Year</th>\n",
              "      <th>Season</th>\n",
              "      <th>Area</th>\n",
              "      <th>Production</th>\n",
              "      <th>Yield</th>\n",
              "      <th>Rainfall</th>\n",
              "      <th>pH</th>\n",
              "      <th>N (mg/kg)</th>\n",
              "      <th>P (mg/kg)</th>\n",
              "      <th>K (mg/kg)</th>\n",
              "    </tr>\n",
              "  </thead>\n",
              "  <tbody>\n",
              "    <tr>\n",
              "      <th>0</th>\n",
              "      <td>Andaman and Nicobar Islands</td>\n",
              "      <td>NICOBARS</td>\n",
              "      <td>Arecanut</td>\n",
              "      <td>2001</td>\n",
              "      <td>Kharif</td>\n",
              "      <td>1254.0</td>\n",
              "      <td>2061.0</td>\n",
              "      <td>1.643541</td>\n",
              "      <td>137.452636</td>\n",
              "      <td>8.208627</td>\n",
              "      <td>18.616828</td>\n",
              "      <td>481.139329</td>\n",
              "      <td>136.507537</td>\n",
              "    </tr>\n",
              "    <tr>\n",
              "      <th>1</th>\n",
              "      <td>Andaman and Nicobar Islands</td>\n",
              "      <td>NICOBARS</td>\n",
              "      <td>Arecanut</td>\n",
              "      <td>2002</td>\n",
              "      <td>Whole Year</td>\n",
              "      <td>1258.0</td>\n",
              "      <td>2083.0</td>\n",
              "      <td>1.655803</td>\n",
              "      <td>120.422686</td>\n",
              "      <td>6.817746</td>\n",
              "      <td>49.884226</td>\n",
              "      <td>296.180997</td>\n",
              "      <td>59.814919</td>\n",
              "    </tr>\n",
              "    <tr>\n",
              "      <th>2</th>\n",
              "      <td>Andaman and Nicobar Islands</td>\n",
              "      <td>NICOBARS</td>\n",
              "      <td>Arecanut</td>\n",
              "      <td>2003</td>\n",
              "      <td>Whole Year</td>\n",
              "      <td>1261.0</td>\n",
              "      <td>1525.0</td>\n",
              "      <td>1.209358</td>\n",
              "      <td>146.864139</td>\n",
              "      <td>5.336782</td>\n",
              "      <td>24.589694</td>\n",
              "      <td>781.487473</td>\n",
              "      <td>176.705141</td>\n",
              "    </tr>\n",
              "    <tr>\n",
              "      <th>3</th>\n",
              "      <td>Andaman and Nicobar Islands</td>\n",
              "      <td>NORTH AND MIDDLE ANDAMAN</td>\n",
              "      <td>Arecanut</td>\n",
              "      <td>2001</td>\n",
              "      <td>Kharif</td>\n",
              "      <td>3100.0</td>\n",
              "      <td>5239.0</td>\n",
              "      <td>1.690000</td>\n",
              "      <td>203.303588</td>\n",
              "      <td>5.959973</td>\n",
              "      <td>27.587975</td>\n",
              "      <td>563.719325</td>\n",
              "      <td>96.295588</td>\n",
              "    </tr>\n",
              "    <tr>\n",
              "      <th>4</th>\n",
              "      <td>Andaman and Nicobar Islands</td>\n",
              "      <td>SOUTH ANDAMANS</td>\n",
              "      <td>Arecanut</td>\n",
              "      <td>2002</td>\n",
              "      <td>Whole Year</td>\n",
              "      <td>3105.0</td>\n",
              "      <td>5267.0</td>\n",
              "      <td>1.696296</td>\n",
              "      <td>291.528307</td>\n",
              "      <td>5.143956</td>\n",
              "      <td>15.146432</td>\n",
              "      <td>460.177869</td>\n",
              "      <td>120.172710</td>\n",
              "    </tr>\n",
              "  </tbody>\n",
              "</table>\n",
              "</div>\n",
              "    <div class=\"colab-df-buttons\">\n",
              "\n",
              "  <div class=\"colab-df-container\">\n",
              "    <button class=\"colab-df-convert\" onclick=\"convertToInteractive('df-75616538-86f9-4305-a583-fd932f301acb')\"\n",
              "            title=\"Convert this dataframe to an interactive table.\"\n",
              "            style=\"display:none;\">\n",
              "\n",
              "  <svg xmlns=\"http://www.w3.org/2000/svg\" height=\"24px\" viewBox=\"0 -960 960 960\">\n",
              "    <path d=\"M120-120v-720h720v720H120Zm60-500h600v-160H180v160Zm220 220h160v-160H400v160Zm0 220h160v-160H400v160ZM180-400h160v-160H180v160Zm440 0h160v-160H620v160ZM180-180h160v-160H180v160Zm440 0h160v-160H620v160Z\"/>\n",
              "  </svg>\n",
              "    </button>\n",
              "\n",
              "  <style>\n",
              "    .colab-df-container {\n",
              "      display:flex;\n",
              "      gap: 12px;\n",
              "    }\n",
              "\n",
              "    .colab-df-convert {\n",
              "      background-color: #E8F0FE;\n",
              "      border: none;\n",
              "      border-radius: 50%;\n",
              "      cursor: pointer;\n",
              "      display: none;\n",
              "      fill: #1967D2;\n",
              "      height: 32px;\n",
              "      padding: 0 0 0 0;\n",
              "      width: 32px;\n",
              "    }\n",
              "\n",
              "    .colab-df-convert:hover {\n",
              "      background-color: #E2EBFA;\n",
              "      box-shadow: 0px 1px 2px rgba(60, 64, 67, 0.3), 0px 1px 3px 1px rgba(60, 64, 67, 0.15);\n",
              "      fill: #174EA6;\n",
              "    }\n",
              "\n",
              "    .colab-df-buttons div {\n",
              "      margin-bottom: 4px;\n",
              "    }\n",
              "\n",
              "    [theme=dark] .colab-df-convert {\n",
              "      background-color: #3B4455;\n",
              "      fill: #D2E3FC;\n",
              "    }\n",
              "\n",
              "    [theme=dark] .colab-df-convert:hover {\n",
              "      background-color: #434B5C;\n",
              "      box-shadow: 0px 1px 3px 1px rgba(0, 0, 0, 0.15);\n",
              "      filter: drop-shadow(0px 1px 2px rgba(0, 0, 0, 0.3));\n",
              "      fill: #FFFFFF;\n",
              "    }\n",
              "  </style>\n",
              "\n",
              "    <script>\n",
              "      const buttonEl =\n",
              "        document.querySelector('#df-75616538-86f9-4305-a583-fd932f301acb button.colab-df-convert');\n",
              "      buttonEl.style.display =\n",
              "        google.colab.kernel.accessAllowed ? 'block' : 'none';\n",
              "\n",
              "      async function convertToInteractive(key) {\n",
              "        const element = document.querySelector('#df-75616538-86f9-4305-a583-fd932f301acb');\n",
              "        const dataTable =\n",
              "          await google.colab.kernel.invokeFunction('convertToInteractive',\n",
              "                                                    [key], {});\n",
              "        if (!dataTable) return;\n",
              "\n",
              "        const docLinkHtml = 'Like what you see? Visit the ' +\n",
              "          '<a target=\"_blank\" href=https://colab.research.google.com/notebooks/data_table.ipynb>data table notebook</a>'\n",
              "          + ' to learn more about interactive tables.';\n",
              "        element.innerHTML = '';\n",
              "        dataTable['output_type'] = 'display_data';\n",
              "        await google.colab.output.renderOutput(dataTable, element);\n",
              "        const docLink = document.createElement('div');\n",
              "        docLink.innerHTML = docLinkHtml;\n",
              "        element.appendChild(docLink);\n",
              "      }\n",
              "    </script>\n",
              "  </div>\n",
              "\n",
              "\n",
              "<div id=\"df-36e2c056-fbe4-419a-880a-2470071fa23f\">\n",
              "  <button class=\"colab-df-quickchart\" onclick=\"quickchart('df-36e2c056-fbe4-419a-880a-2470071fa23f')\"\n",
              "            title=\"Suggest charts\"\n",
              "            style=\"display:none;\">\n",
              "\n",
              "<svg xmlns=\"http://www.w3.org/2000/svg\" height=\"24px\"viewBox=\"0 0 24 24\"\n",
              "     width=\"24px\">\n",
              "    <g>\n",
              "        <path d=\"M19 3H5c-1.1 0-2 .9-2 2v14c0 1.1.9 2 2 2h14c1.1 0 2-.9 2-2V5c0-1.1-.9-2-2-2zM9 17H7v-7h2v7zm4 0h-2V7h2v10zm4 0h-2v-4h2v4z\"/>\n",
              "    </g>\n",
              "</svg>\n",
              "  </button>\n",
              "\n",
              "<style>\n",
              "  .colab-df-quickchart {\n",
              "      --bg-color: #E8F0FE;\n",
              "      --fill-color: #1967D2;\n",
              "      --hover-bg-color: #E2EBFA;\n",
              "      --hover-fill-color: #174EA6;\n",
              "      --disabled-fill-color: #AAA;\n",
              "      --disabled-bg-color: #DDD;\n",
              "  }\n",
              "\n",
              "  [theme=dark] .colab-df-quickchart {\n",
              "      --bg-color: #3B4455;\n",
              "      --fill-color: #D2E3FC;\n",
              "      --hover-bg-color: #434B5C;\n",
              "      --hover-fill-color: #FFFFFF;\n",
              "      --disabled-bg-color: #3B4455;\n",
              "      --disabled-fill-color: #666;\n",
              "  }\n",
              "\n",
              "  .colab-df-quickchart {\n",
              "    background-color: var(--bg-color);\n",
              "    border: none;\n",
              "    border-radius: 50%;\n",
              "    cursor: pointer;\n",
              "    display: none;\n",
              "    fill: var(--fill-color);\n",
              "    height: 32px;\n",
              "    padding: 0;\n",
              "    width: 32px;\n",
              "  }\n",
              "\n",
              "  .colab-df-quickchart:hover {\n",
              "    background-color: var(--hover-bg-color);\n",
              "    box-shadow: 0 1px 2px rgba(60, 64, 67, 0.3), 0 1px 3px 1px rgba(60, 64, 67, 0.15);\n",
              "    fill: var(--button-hover-fill-color);\n",
              "  }\n",
              "\n",
              "  .colab-df-quickchart-complete:disabled,\n",
              "  .colab-df-quickchart-complete:disabled:hover {\n",
              "    background-color: var(--disabled-bg-color);\n",
              "    fill: var(--disabled-fill-color);\n",
              "    box-shadow: none;\n",
              "  }\n",
              "\n",
              "  .colab-df-spinner {\n",
              "    border: 2px solid var(--fill-color);\n",
              "    border-color: transparent;\n",
              "    border-bottom-color: var(--fill-color);\n",
              "    animation:\n",
              "      spin 1s steps(1) infinite;\n",
              "  }\n",
              "\n",
              "  @keyframes spin {\n",
              "    0% {\n",
              "      border-color: transparent;\n",
              "      border-bottom-color: var(--fill-color);\n",
              "      border-left-color: var(--fill-color);\n",
              "    }\n",
              "    20% {\n",
              "      border-color: transparent;\n",
              "      border-left-color: var(--fill-color);\n",
              "      border-top-color: var(--fill-color);\n",
              "    }\n",
              "    30% {\n",
              "      border-color: transparent;\n",
              "      border-left-color: var(--fill-color);\n",
              "      border-top-color: var(--fill-color);\n",
              "      border-right-color: var(--fill-color);\n",
              "    }\n",
              "    40% {\n",
              "      border-color: transparent;\n",
              "      border-right-color: var(--fill-color);\n",
              "      border-top-color: var(--fill-color);\n",
              "    }\n",
              "    60% {\n",
              "      border-color: transparent;\n",
              "      border-right-color: var(--fill-color);\n",
              "    }\n",
              "    80% {\n",
              "      border-color: transparent;\n",
              "      border-right-color: var(--fill-color);\n",
              "      border-bottom-color: var(--fill-color);\n",
              "    }\n",
              "    90% {\n",
              "      border-color: transparent;\n",
              "      border-bottom-color: var(--fill-color);\n",
              "    }\n",
              "  }\n",
              "</style>\n",
              "\n",
              "  <script>\n",
              "    async function quickchart(key) {\n",
              "      const quickchartButtonEl =\n",
              "        document.querySelector('#' + key + ' button');\n",
              "      quickchartButtonEl.disabled = true;  // To prevent multiple clicks.\n",
              "      quickchartButtonEl.classList.add('colab-df-spinner');\n",
              "      try {\n",
              "        const charts = await google.colab.kernel.invokeFunction(\n",
              "            'suggestCharts', [key], {});\n",
              "      } catch (error) {\n",
              "        console.error('Error during call to suggestCharts:', error);\n",
              "      }\n",
              "      quickchartButtonEl.classList.remove('colab-df-spinner');\n",
              "      quickchartButtonEl.classList.add('colab-df-quickchart-complete');\n",
              "    }\n",
              "    (() => {\n",
              "      let quickchartButtonEl =\n",
              "        document.querySelector('#df-36e2c056-fbe4-419a-880a-2470071fa23f button');\n",
              "      quickchartButtonEl.style.display =\n",
              "        google.colab.kernel.accessAllowed ? 'block' : 'none';\n",
              "    })();\n",
              "  </script>\n",
              "</div>\n",
              "\n",
              "    </div>\n",
              "  </div>\n"
            ],
            "application/vnd.google.colaboratory.intrinsic+json": {
              "type": "dataframe",
              "variable_name": "df"
            }
          },
          "metadata": {},
          "execution_count": 4
        }
      ]
    },
    {
      "cell_type": "code",
      "source": [
        "\n",
        "\n",
        "# Select numerical columns\n",
        "numerical_columns = ['Area', 'Production', 'Rainfall', 'pH', 'N (mg/kg)', 'P (mg/kg)', 'K (mg/kg)']\n",
        "\n",
        "# Calculate mean and standard deviation for numerical columns\n",
        "mean_values = df[numerical_columns].mean()\n",
        "std_values = df[numerical_columns].std()\n",
        "\n",
        "# Print mean and standard deviation\n",
        "print(\"Mean values:\")\n",
        "print(mean_values)\n",
        "\n",
        "print(\"\\nStandard deviation values:\")\n",
        "print(std_values)\n"
      ],
      "metadata": {
        "colab": {
          "base_uri": "https://localhost:8080/"
        },
        "id": "85dgY3Tirg4i",
        "outputId": "dd159dde-2c4a-4dcb-fb7d-5e556aa71896"
      },
      "execution_count": null,
      "outputs": [
        {
          "output_type": "stream",
          "name": "stdout",
          "text": [
            "Mean values:\n",
            "Area           11825.345781\n",
            "Production    958371.148664\n",
            "Rainfall         174.821178\n",
            "pH                 6.495264\n",
            "N (mg/kg)         30.003194\n",
            "P (mg/kg)        404.274799\n",
            "K (mg/kg)        155.152473\n",
            "dtype: float64\n",
            "\n",
            "Standard deviation values:\n",
            "Area          4.612484e+04\n",
            "Production    2.152986e+07\n",
            "Rainfall      7.221519e+01\n",
            "pH            1.153974e+00\n",
            "N (mg/kg)     1.154301e+01\n",
            "P (mg/kg)     2.281020e+02\n",
            "K (mg/kg)     8.376662e+01\n",
            "dtype: float64\n"
          ]
        }
      ]
    },
    {
      "cell_type": "code",
      "source": [
        "print(len(df['State'].unique()))    # Should print 36\n",
        "print(len(df['District'].unique())) # Should print 728\n",
        "print(len(df['Crop'].unique()))     # Should print 56\n",
        "print(len(df['Season'].unique()))   # Should print 6\n"
      ],
      "metadata": {
        "colab": {
          "base_uri": "https://localhost:8080/"
        },
        "id": "klNx8Jol8Smk",
        "outputId": "b1c599b0-d76e-46d9-8e24-cbbc682c0175"
      },
      "execution_count": null,
      "outputs": [
        {
          "output_type": "stream",
          "name": "stdout",
          "text": [
            "36\n",
            "728\n",
            "56\n",
            "6\n"
          ]
        }
      ]
    },
    {
      "cell_type": "code",
      "source": [
        "# Get unique names from each column\n",
        "unique_states = df['State'].unique()\n",
        "unique_districts = df['District'].unique()\n",
        "unique_crops = df['Crop'].unique()\n",
        "unique_seasons = df['Season'].unique()\n",
        "\n",
        "# Convert to lists for easy copying\n",
        "unique_states_list = unique_states.tolist()\n",
        "unique_districts_list = unique_districts.tolist()\n",
        "unique_crops_list = unique_crops.tolist()\n",
        "unique_seasons_list = unique_seasons.tolist()\n",
        "\n",
        "print(\"Unique States:\")\n",
        "print(unique_states_list)\n",
        "\n",
        "print(\"\\nUnique Districts:\")\n",
        "print(unique_districts_list)\n",
        "\n",
        "print(\"\\nUnique Crops:\")\n",
        "print(unique_crops_list)\n",
        "\n",
        "print(\"\\nUnique Seasons:\")\n",
        "print(unique_seasons_list)"
      ],
      "metadata": {
        "colab": {
          "base_uri": "https://localhost:8080/"
        },
        "id": "j2OyIBr640H-",
        "outputId": "f5e6b403-7da6-4653-e931-fb337dbaa637"
      },
      "execution_count": null,
      "outputs": [
        {
          "output_type": "stream",
          "name": "stdout",
          "text": [
            "Unique States:\n",
            "['Andaman and Nicobar Islands', 'Andhra Pradesh', 'Arunachal Pradesh', 'Assam', 'Bihar', 'Chandigarh', 'Chhattisgarh', 'Dadra and Nagar Haveli', 'Daman and Diu', 'Delhi', 'Goa', 'Gujarat', 'Haryana', 'Himachal Pradesh', 'Jammu and Kashmir', 'Jharkhand', 'Karnataka', 'Kerala', 'Madhya Pradesh', 'Maharashtra', 'Manipur', 'Meghalaya', 'Mizoram', 'Nagaland', 'Odisha', 'Puducherry', 'Punjab', 'Rajasthan', 'Sikkim', 'Tamil Nadu', 'Tripura', 'Uttar Pradesh', 'Uttarakhand', 'West Bengal', 'Telangana', 'Laddakh']\n",
            "\n",
            "Unique Districts:\n",
            "['NICOBARS', 'NORTH AND MIDDLE ANDAMAN', 'SOUTH ANDAMANS', 'ANANTAPUR', 'EAST GODAVARI', 'KRISHNA', 'VIZIANAGARAM', 'WEST GODAVARI', 'ADILABAD', 'CHITTOOR', 'GUNTUR', 'KADAPA', 'KARIMNAGAR', 'KHAMMAM', 'KURNOOL', 'MAHBUBNAGAR', 'MEDAK', 'NALGONDA', 'NIZAMABAD', 'PRAKASAM', 'RANGAREDDI', 'SPSR NELLORE', 'SRIKAKULAM', 'VISAKHAPATANAM', 'WARANGAL', 'CHANGLANG', 'DIBANG VALLEY', 'EAST KAMENG', 'EAST SIANG', 'KURUNG KUMEY', 'LOHIT', 'LOWER DIBANG VALLEY', 'LOWER SUBANSIRI', 'PAPUM PARE', 'TAWANG', 'TIRAP', 'UPPER SIANG', 'UPPER SUBANSIRI', 'WEST KAMENG', 'WEST SIANG', 'BARPETA', 'BONGAIGAON', 'CACHAR', 'DARRANG', 'DHEMAJI', 'DHUBRI', 'DIBRUGARH', 'DIMA HASAO', 'GOALPARA', 'GOLAGHAT', 'HAILAKANDI', 'JORHAT', 'KAMRUP', 'KARBI ANGLONG', 'KARIMGANJ', 'KOKRAJHAR', 'LAKHIMPUR', 'MARIGAON', 'NAGAON', 'NALBARI', 'SIVASAGAR', 'SONITPUR', 'TINSUKIA', 'ARARIA', 'ARWAL', 'AURANGABAD', 'BANKA', 'BEGUSARAI', 'BHAGALPUR', 'BHOJPUR', 'BUXAR', 'DARBHANGA', 'GAYA', 'GOPALGANJ', 'JAMUI', 'JEHANABAD', 'KAIMUR (BHABUA)', 'KATIHAR', 'KHAGARIA', 'KISHANGANJ', 'LAKHISARAI', 'MADHEPURA', 'MADHUBANI', 'MUNGER', 'MUZAFFARPUR', 'NALANDA', 'NAWADA', 'PASHCHIM CHAMPARAN', 'PATNA', 'PURBI CHAMPARAN', 'PURNIA', 'ROHTAS', 'SAHARSA', 'SAMASTIPUR', 'SARAN', 'SHEIKHPURA', 'SHEOHAR', 'SITAMARHI', 'SIWAN', 'SUPAUL', 'VAISHALI', 'CHANDIGARH', 'BASTAR', 'BILASPUR', 'DANTEWADA', 'DHAMTARI', 'DURG', 'JANJGIR-CHAMPA', 'JASHPUR', 'KABIRDHAM', 'KANKER', 'KORBA', 'KOREA', 'MAHASAMUND', 'RAIGARH', 'RAIPUR', 'RAJNANDGAON', 'SURGUJA', 'DADRA AND NAGAR HAVELI', 'Daman and Diu', 'Delhi', 'Goa', 'AHMADABAD', 'AMRELI', 'ANAND', 'BANAS KANTHA', 'BHARUCH', 'BHAVNAGAR', 'DANG', 'DOHAD', 'GANDHINAGAR', 'JAMNAGAR', 'JUNAGADH', 'KHEDA', 'MAHESANA', 'NARMADA', 'NAVSARI', 'PANCH MAHALS', 'PATAN', 'PORBANDAR', 'RAJKOT', 'SABAR KANTHA', 'SURAT', 'SURENDRANAGAR', 'VADODARA', 'VALSAD', 'KACHCHH', 'AMBALA', 'BHIWANI', 'FARIDABAD', 'FATEHABAD', 'GURGAON', 'HISAR', 'JHAJJAR', 'JIND', 'KAITHAL', 'KARNAL', 'KURUKSHETRA', 'MAHENDRAGARH', 'PANCHKULA', 'PANIPAT', 'REWARI', 'ROHTAK', 'SIRSA', 'SONIPAT', 'YAMUNANAGAR', 'KANGRA', 'KULLU', 'MANDI', 'SHIMLA', 'SOLAN', 'UNA', 'CHAMBA', 'HAMIRPUR', 'SIRMAUR', 'KINNAUR', 'LAHUL AND SPITI', 'DODA', 'JAMMU', 'KATHUA', 'RAJAURI', 'UDHAMPUR', 'KARGIL', 'LEH LADAKH', 'SRINAGAR', 'BADGAM', 'BARAMULLA', 'POONCH', 'PULWAMA', 'ANANTNAG', 'KUPWARA', 'CHATRA', 'DUMKA', 'GARHWA', 'GODDA', 'GUMLA', 'HAZARIBAGH', 'KODERMA', 'LATEHAR', 'LOHARDAGA', 'PAKUR', 'PALAMU', 'RANCHI', 'SAHEBGANJ', 'SARAIKELA KHARSAWAN', 'SIMDEGA', 'WEST SINGHBHUM', 'BOKARO', 'DEOGHAR', 'DHANBAD', 'EAST SINGHBUM', 'GIRIDIH', 'JAMTARA', 'BAGALKOT', 'BANGALORE RURAL', 'BELGAUM', 'BELLARY', 'BENGALURU URBAN', 'CHAMARAJANAGAR', 'CHIKMAGALUR', 'CHITRADURGA', 'DAKSHIN KANNAD', 'DAVANGERE', 'DHARWAD', 'GADAG', 'HASSAN', 'HAVERI', 'KODAGU', 'KOLAR', 'MANDYA', 'MYSORE', 'SHIMOGA', 'TUMKUR', 'UDUPI', 'UTTAR KANNAD', 'BIDAR', 'BIJAPUR', 'GULBARGA', 'KOPPAL', 'RAICHUR', 'ALAPPUZHA', 'ERNAKULAM', 'IDUKKI', 'KANNUR', 'KASARAGOD', 'KOLLAM', 'KOTTAYAM', 'KOZHIKODE', 'MALAPPURAM', 'PALAKKAD', 'PATHANAMTHITTA', 'THIRUVANANTHAPURAM', 'THRISSUR', 'WAYANAD', 'ANUPPUR', 'ASHOKNAGAR', 'BALAGHAT', 'BARWANI', 'BETUL', 'BHIND', 'BHOPAL', 'BURHANPUR', 'CHHATARPUR', 'CHHINDWARA', 'DAMOH', 'DATIA', 'DEWAS', 'DHAR', 'DINDORI', 'GUNA', 'GWALIOR', 'HARDA', 'HOSHANGABAD', 'INDORE', 'JABALPUR', 'JHABUA', 'KATNI', 'KHANDWA', 'KHARGONE', 'MANDLA', 'MANDSAUR', 'MORENA', 'NARSINGHPUR', 'NEEMUCH', 'PANNA', 'RAISEN', 'RAJGARH', 'RATLAM', 'REWA', 'SAGAR', 'SATNA', 'SEHORE', 'SEONI', 'SHAHDOL', 'SHAJAPUR', 'SHEOPUR', 'SHIVPURI', 'SIDHI', 'TIKAMGARH', 'UJJAIN', 'UMARIA', 'VIDISHA', 'AHMEDNAGAR', 'AKOLA', 'AMRAVATI', 'BEED', 'BHANDARA', 'BULDHANA', 'CHANDRAPUR', 'DHULE', 'GADCHIROLI', 'GONDIA', 'HINGOLI', 'JALGAON', 'JALNA', 'KOLHAPUR', 'LATUR', 'NAGPUR', 'NANDED', 'NANDURBAR', 'NASHIK', 'OSMANABAD', 'PARBHANI', 'PUNE', 'RAIGAD', 'RATNAGIRI', 'SANGLI', 'SATARA', 'SOLAPUR', 'THANE', 'WARDHA', 'WASHIM', 'YAVATMAL', 'SINDHUDURG', 'SENAPATI', 'BISHNUPUR', 'CHANDEL', 'CHURACHANDPUR', 'IMPHAL EAST', 'IMPHAL WEST', 'TAMENGLONG', 'THOUBAL', 'UKHRUL', 'EAST GARO HILLS', 'EAST JAINTIA HILLS', 'EAST KHASI HILLS', 'RI BHOI', 'SOUTH GARO HILLS', 'WEST GARO HILLS', 'WEST KHASI HILLS', 'AIZAWL', 'CHAMPHAI', 'KOLASIB', 'LUNGLEI', 'MAMIT', 'SAIHA', 'DIMAPUR', 'KOHIMA', 'MOKOKCHUNG', 'MON', 'PHEK', 'TUENSANG', 'WOKHA', 'ZUNHEBOTO', 'ANUGUL', 'BALANGIR', 'BALESHWAR', 'BARGARH', 'BHADRAK', 'BOUDH', 'CUTTACK', 'DEOGARH', 'DHENKANAL', 'GAJAPATI', 'GANJAM', 'JAGATSINGHAPUR', 'JAJAPUR', 'JHARSUGUDA', 'KALAHANDI', 'KANDHAMAL', 'KENDRAPARA', 'KENDUJHAR', 'KHORDHA', 'KORAPUT', 'MALKANGIRI', 'MAYURBHANJ', 'NABARANGPUR', 'NAYAGARH', 'NUAPADA', 'RAYAGADA', 'SAMBALPUR', 'SONEPUR', 'SUNDARGARH', 'PURI', 'MAHE', 'PONDICHERRY', 'KARAIKAL', 'YANAM', 'AMRITSAR', 'BATHINDA', 'FARIDKOT', 'FATEHGARH SAHIB', 'FIROZEPUR', 'HOSHIARPUR', 'JALANDHAR', 'KAPURTHALA', 'LUDHIANA', 'MOGA', 'MUKTSAR', 'NAWANSHAHR', 'PATIALA', 'RUPNAGAR', 'SANGRUR', 'MANSA', 'GURDASPUR', 'AJMER', 'ALWAR', 'BANSWARA', 'BARAN', 'BHARATPUR', 'BHILWARA', 'BIKANER', 'BUNDI', 'CHITTORGARH', 'DAUSA', 'DHOLPUR', 'DUNGARPUR', 'GANGANAGAR', 'HANUMANGARH', 'JAIPUR', 'JAISALMER', 'JHALAWAR', 'KARAULI', 'KOTA', 'NAGAUR', 'PALI', 'RAJSAMAND', 'SAWAI MADHOPUR', 'SIKAR', 'SIROHI', 'TONK', 'UDAIPUR', 'BARMER', 'CHURU', 'JALORE', 'JHUNJHUNU', 'JODHPUR', 'EAST DISTRICT', 'NORTH DISTRICT', 'SOUTH DISTRICT', 'WEST DISTRICT', 'COIMBATORE', 'CUDDALORE', 'DHARMAPURI', 'DINDIGUL', 'ERODE', 'KANCHIPURAM', 'KARUR', 'MADURAI', 'NAMAKKAL', 'PERAMBALUR', 'PUDUKKOTTAI', 'RAMANATHAPURAM', 'SALEM', 'SIVAGANGA', 'THANJAVUR', 'THENI', 'THIRUVALLUR', 'THIRUVARUR', 'THOOTHUKUDI', 'TIRUCHIRAPPALLI', 'TIRUNELVELI', 'TIRUVANNAMALAI', 'VELLORE', 'VILLUPURAM', 'VIRUDHUNAGAR', 'NAGAPATTINAM', 'THE NILGIRIS', 'KANNIYAKUMARI', 'KRISHNAGIRI', 'DHALAI', 'NORTH TRIPURA', 'SOUTH TRIPURA', 'WEST TRIPURA', 'AGRA', 'ALIGARH', 'ALLAHABAD', 'AMBEDKAR NAGAR', 'AMROHA', 'AURAIYA', 'AZAMGARH', 'BAGHPAT', 'BAHRAICH', 'BALLIA', 'BALRAMPUR', 'BANDA', 'BARABANKI', 'BAREILLY', 'BASTI', 'BIJNOR', 'BUDAUN', 'BULANDSHAHR', 'CHANDAULI', 'CHITRAKOOT', 'DEORIA', 'ETAH', 'ETAWAH', 'FAIZABAD', 'FARRUKHABAD', 'FATEHPUR', 'FIROZABAD', 'GAUTAM BUDDHA NAGAR', 'GHAZIABAD', 'GHAZIPUR', 'GONDA', 'GORAKHPUR', 'HARDOI', 'HATHRAS', 'JALAUN', 'JAUNPUR', 'JHANSI', 'KANNAUJ', 'KANPUR DEHAT', 'KANPUR NAGAR', 'KAUSHAMBI', 'KHERI', 'KUSHI NAGAR', 'LALITPUR', 'LUCKNOW', 'MAHARAJGANJ', 'MAHOBA', 'MAINPURI', 'MATHURA', 'MAU', 'MEERUT', 'MIRZAPUR', 'MORADABAD', 'MUZAFFARNAGAR', 'PILIBHIT', 'PRATAPGARH', 'RAE BARELI', 'RAMPUR', 'SAHARANPUR', 'SANT KABEER NAGAR', 'SANT RAVIDAS NAGAR', 'SHAHJAHANPUR', 'SHRAVASTI', 'SIDDHARTH NAGAR', 'SITAPUR', 'SONBHADRA', 'SULTANPUR', 'UNNAO', 'VARANASI', 'CHAMOLI', 'CHAMPAWAT', 'DEHRADUN', 'HARIDWAR', 'NAINITAL', 'PAURI GARHWAL', 'PITHORAGARH', 'RUDRA PRAYAG', 'TEHRI GARHWAL', 'UDAM SINGH NAGAR', 'UTTAR KASHI', 'ALMORA', 'BAGESHWAR', '24 PARAGANAS NORTH', '24 PARAGANAS SOUTH', 'BANKURA', 'BIRBHUM', 'COOCHBEHAR', 'DARJEELING', 'DINAJPUR DAKSHIN', 'DINAJPUR UTTAR', 'HOOGHLY', 'HOWRAH', 'JALPAIGURI', 'MALDAH', 'MEDINIPUR EAST', 'MEDINIPUR WEST', 'MURSHIDABAD', 'NADIA', 'PURBA BARDHAMAN', 'PURULIA', 'ANJAW', 'BAKSA', 'CHIRANG', 'KAMRUP METRO', 'UDALGURI', 'NARAYANPUR', 'NORTH GOA', 'SOUTH GOA', 'MEWAT', 'PALGHAR', 'LAWNGTLAI', 'SERCHHIP', 'S', 'TARN TARAN', 'Andaman and Nicobar Islands', 'DELHI_TOTAL', 'TAPI', 'PALWAL', 'REASI', 'SAMBA', 'KISHTWAR', 'RAMBAN', 'KULGAM', 'BANDIPORA', 'GANDERBAL', 'SHOPIAN', 'KHUNTI', 'RAMGARH', 'RAMANAGARA', 'CHIKBALLAPUR', 'ALIRAJPUR', 'SINGRAULI', 'KIPHIRE', 'LONGLENG', 'PEREN', 'BARNALA', 'TIRUPPUR', 'ARIYALUR', 'KASGANJ', 'BALOD', 'BALODA BAZAR', 'BEMETARA', 'GARIYABAND', 'KONDAGAON', 'MUNGELI', 'SUKMA', 'SURAJPUR', 'YADGIR', 'FAZILKA', 'PATHANKOT', 'GOMATI', 'KHOWAI', 'SEPAHIJALA', 'UNAKOTI', 'AMETHI', 'HAPUR', 'SAMBHAL', 'SHAMLI', 'KRA DAADI', 'LONGDING', 'NAMSAI', 'SIANG', 'DIU', 'DAMAN', 'ARAVALLI', 'BOTAD', 'CHHOTAUDEPUR', 'GIR SOMNATH', 'MAHISAGAR', 'DEVBHUMI DWARKA', 'MORBI', 'CHARKI DADRI', 'AGAR MALWA', 'NORTH GARO HILLS', 'SOUTH WEST GARO HILLS', 'SOUTH WEST KHASI HILLS', 'WEST JAINTIA HILLS', 'ALIPURDUAR', 'KAMLE', 'LOWER SIANG', 'MUMBAI SUBURBAN', 'BHADRADRI', 'JAGITIAL', 'JANGOAN', 'JAYASHANKAR', 'JOGULAMBA', 'KAMAREDDY', 'KOMARAM BHEEM ASIFABAD', 'MAHABUBABAD', 'MANCHERIAL', 'MEDCHAL', 'MULUGU', 'NAGARKURNOOL', 'NARAYANAPET', 'NIRMAL', 'PEDDAPALLI', 'RAJANNA', 'SANGAREDDY', 'SIDDIPET', 'SURYAPET', 'VIKARABAD', 'WANAPARTHY', 'WARANGAL URBAN', 'YADADRI', 'JHARGRAM', 'PASCHIM BARDHAMAN', 'KALIMPONG', 'LEPARADA', 'PAKKE KESSANG', 'SHI YOMI', 'BISWANATH', 'CHARAIDEO', 'HOJAI', 'MAJULI', 'SOUTH SALMARA MANCACHAR', 'WEST KARBI ANGLONG', 'GAURELLA-PENDRA-MARWAHI', 'BAGALKOTE', 'BALLARI', 'BELAGAVI', 'CHAMARAJANAGARA', 'CHIKKABALLAPURA', 'CHIKKAMAGALURU', 'DAKSHINA KANNADA', 'MYSURU', 'SHIVAMOGGA', 'TUMAKURU', 'UTTARA KANNADA', 'VIJAYAPURA', 'KALABURAGI', 'YADAGIRI', 'NIWARI', 'SHAHID BHAGAT SINGH NAGAR', 'TUTICORIN', 'CHENNAI', 'KALLAKURICHI', 'TENKASI', 'TIRUPATHUR', 'CHENGALPATTU', 'RANIPET', 'HANUMAKONDA', 'MEDCHAL MALKAJGIRI', 'HYDERABAD', 'MUMBAI']\n",
            "\n",
            "Unique Crops:\n",
            "['Arecanut', 'Banana', 'Black pepper', 'Cashewnut', 'Coconut', 'Dry chillies', 'Ginger', 'Other Kharif pulses', 'other oilseeds', 'Rice', 'Sugarcane', 'Sweet potato', 'Arhar/Tur', 'Bajra', 'Castor seed', 'Coriander', 'Cotton(lint)', 'Gram', 'Groundnut', 'Horse-gram', 'Jowar', 'Linseed', 'Maize', 'Mesta', 'Moong(Green Gram)', 'Niger seed', 'Onion', 'Other Rabi pulses', 'Potato', 'Ragi', 'Rapeseed &Mustard', 'Safflower', 'Sesamum', 'Small millets', 'Soyabean', 'Sunflower', 'Tapioca', 'Tobacco', 'Turmeric', 'Urad', 'Wheat', 'Oilseeds total', 'Jute', 'Masoor', 'Peas & beans (Pulses)', 'Barley', 'Garlic', 'Khesari', 'Sannhamp', 'Guar seed', 'Moth', 'Cardamom', 'Other Cereals', 'Cowpea(Lobia)', 'Dry Ginger', 'Other Summer Pulses']\n",
            "\n",
            "Unique Seasons:\n",
            "['Kharif', 'Whole Year', 'Rabi', 'Autumn', 'Summer', 'Winter']\n"
          ]
        }
      ]
    },
    {
      "cell_type": "code",
      "execution_count": null,
      "metadata": {
        "id": "RryrKf1HUIOQ"
      },
      "outputs": [],
      "source": [
        "# Select relevant columns\n",
        "df_regressor = df[['State', 'District', 'Crop', 'Season', 'Area', 'Production', 'Rainfall', 'pH', 'N (mg/kg)', 'P (mg/kg)', 'K (mg/kg)', 'Yield']]\n"
      ]
    },
    {
      "cell_type": "code",
      "execution_count": null,
      "metadata": {
        "id": "Yz1fmUsxUJYm"
      },
      "outputs": [],
      "source": [
        "# Split features and targets\n",
        "X_regressor = df_regressor.drop('Yield', axis=1)\n",
        "y_regressor = df_regressor['Yield']"
      ]
    },
    {
      "cell_type": "code",
      "execution_count": null,
      "metadata": {
        "id": "Orbg6dwWUMde"
      },
      "outputs": [],
      "source": [
        "# Split the data into training and testing sets\n",
        "X_train_regressor, X_test_regressor, y_train_regressor, y_test_regressor = train_test_split(X_regressor, y_regressor, test_size=0.2, random_state=0, shuffle=True)"
      ]
    },
    {
      "cell_type": "code",
      "source": [
        "# Get unique categories\n",
        "states = df['State'].unique()\n",
        "districts = df['District'].unique()\n",
        "crops = df['Crop'].unique()\n",
        "seasons = df['Season'].unique()"
      ],
      "metadata": {
        "id": "BT8MHbfd-OBQ"
      },
      "execution_count": null,
      "outputs": []
    },
    {
      "cell_type": "code",
      "execution_count": null,
      "metadata": {
        "id": "anklrdSNUOcD"
      },
      "outputs": [],
      "source": [
        "# Preprocessing: OneHotEncoder and StandardScaler\n",
        "ohe = OneHotEncoder(categories=[states, districts, crops, seasons], drop='first', handle_unknown='ignore')\n",
        "scale = StandardScaler()\n",
        "\n",
        "preprocessor_regressor = ColumnTransformer(\n",
        "    transformers=[\n",
        "        ('StandardScale', scale, ['Area', 'Production', 'Rainfall', 'pH', 'N (mg/kg)', 'P (mg/kg)', 'K (mg/kg)']),\n",
        "        ('OneHotEncode', ohe, ['State', 'District', 'Crop', 'Season'])\n",
        "    ], remainder='passthrough'\n",
        ")"
      ]
    },
    {
      "cell_type": "code",
      "source": [
        "# Define the sample input\n",
        "sample_input = pd.DataFrame([['Andaman and Nicobar Islands', 'NICOBARS', 'Rice', 'Kharif', 1254, 2061, 137.4, 8.2, 18.6, 481.1, 136.5]],\n",
        "                            columns=['State', 'District', 'Crop', 'Season', 'Area', 'Production', 'Rainfall', 'pH', 'N (mg/kg)', 'P (mg/kg)', 'K (mg/kg)'])\n",
        "\n",
        "# Transform the sample input\n",
        "transformed_sample = preprocessor_regressor.transform(sample_input)\n",
        "print(\"Transformed Sample Input Shape:\", transformed_sample.shape)\n",
        "\n",
        "# Ensure the input data shape is correct for the model\n",
        "if transformed_sample.shape[1] != 828:  # or 829 based on your training shape\n",
        "    raise ValueError(f\"Input data shape {transformed_sample.shape} does not match expected shape [1, 828 or 829]\")\n"
      ],
      "metadata": {
        "colab": {
          "base_uri": "https://localhost:8080/",
          "height": 193
        },
        "id": "rK5ESGW-1tUF",
        "outputId": "7f9b6baa-9623-4a54-c8a6-654125b9af1c"
      },
      "execution_count": null,
      "outputs": [
        {
          "output_type": "stream",
          "name": "stdout",
          "text": [
            "Transformed Sample Input Shape: (1, 829)\n"
          ]
        },
        {
          "output_type": "error",
          "ename": "ValueError",
          "evalue": "Input data shape (1, 829) does not match expected shape [1, 828 or 829]",
          "traceback": [
            "\u001b[0;31m---------------------------------------------------------------------------\u001b[0m",
            "\u001b[0;31mValueError\u001b[0m                                Traceback (most recent call last)",
            "\u001b[0;32m<ipython-input-15-662d89dcdfff>\u001b[0m in \u001b[0;36m<cell line: 10>\u001b[0;34m()\u001b[0m\n\u001b[1;32m      9\u001b[0m \u001b[0;31m# Ensure the input data shape is correct for the model\u001b[0m\u001b[0;34m\u001b[0m\u001b[0;34m\u001b[0m\u001b[0m\n\u001b[1;32m     10\u001b[0m \u001b[0;32mif\u001b[0m \u001b[0mtransformed_sample\u001b[0m\u001b[0;34m.\u001b[0m\u001b[0mshape\u001b[0m\u001b[0;34m[\u001b[0m\u001b[0;36m1\u001b[0m\u001b[0;34m]\u001b[0m \u001b[0;34m!=\u001b[0m \u001b[0;36m828\u001b[0m\u001b[0;34m:\u001b[0m  \u001b[0;31m# or 829 based on your training shape\u001b[0m\u001b[0;34m\u001b[0m\u001b[0;34m\u001b[0m\u001b[0m\n\u001b[0;32m---> 11\u001b[0;31m     \u001b[0;32mraise\u001b[0m \u001b[0mValueError\u001b[0m\u001b[0;34m(\u001b[0m\u001b[0;34mf\"Input data shape {transformed_sample.shape} does not match expected shape [1, 828 or 829]\"\u001b[0m\u001b[0;34m)\u001b[0m\u001b[0;34m\u001b[0m\u001b[0;34m\u001b[0m\u001b[0m\n\u001b[0m",
            "\u001b[0;31mValueError\u001b[0m: Input data shape (1, 829) does not match expected shape [1, 828 or 829]"
          ]
        }
      ]
    },
    {
      "cell_type": "code",
      "source": [
        "print(\"Transformed Training Data Shape:\", X_train_regressor_transformed.shape)\n"
      ],
      "metadata": {
        "id": "XEMOE1Xu1-2l",
        "outputId": "ce6cadfb-462e-4817-8323-e544e002a562",
        "colab": {
          "base_uri": "https://localhost:8080/"
        }
      },
      "execution_count": null,
      "outputs": [
        {
          "output_type": "stream",
          "name": "stdout",
          "text": [
            "Transformed Training Data Shape: (272331, 829)\n"
          ]
        }
      ]
    },
    {
      "cell_type": "code",
      "execution_count": null,
      "metadata": {
        "id": "nDOHyMMyUSam"
      },
      "outputs": [],
      "source": [
        "# Transform the training and testing data\n",
        "X_train_regressor_transformed = preprocessor_regressor.fit_transform(X_train_regressor)\n",
        "X_test_regressor_transformed = preprocessor_regressor.transform(X_test_regressor)"
      ]
    },
    {
      "cell_type": "code",
      "execution_count": null,
      "metadata": {
        "colab": {
          "base_uri": "https://localhost:8080/"
        },
        "id": "lfkfXmfaFXgm",
        "outputId": "61b3d47b-5851-4d26-e0b1-630aa8ae585d"
      },
      "outputs": [
        {
          "output_type": "execute_result",
          "data": {
            "text/plain": [
              "['preprocessor_regressor.pkl']"
            ]
          },
          "metadata": {},
          "execution_count": 64
        }
      ],
      "source": [
        "# Save the preprocessors\n",
        "joblib.dump(preprocessor_regressor, 'preprocessor_regressor.pkl')"
      ]
    },
    {
      "cell_type": "code",
      "execution_count": null,
      "metadata": {
        "id": "NEWJbFLtSX8B"
      },
      "outputs": [],
      "source": [
        "# Convert the sparse matrices to dense arrays\n",
        "X_train_regressor_transformed = X_train_regressor_transformed.toarray()\n",
        "X_test_regressor_transformed = X_test_regressor_transformed.toarray()"
      ]
    },
    {
      "cell_type": "code",
      "execution_count": null,
      "metadata": {
        "id": "39R3IKLPUZPU"
      },
      "outputs": [],
      "source": [
        "# Train the Neural Network Regressor\n",
        "regressor_nn = Sequential([\n",
        "    Dense(128, activation='relu', input_shape=(X_train_regressor_transformed.shape[1],)),\n",
        "    Dense(64, activation='relu'),\n",
        "    Dense(1)\n",
        "])\n",
        "\n",
        "regressor_nn.compile(optimizer='adam', loss='mse', metrics=['mse'])"
      ]
    },
    {
      "cell_type": "code",
      "execution_count": null,
      "metadata": {
        "colab": {
          "base_uri": "https://localhost:8080/"
        },
        "id": "DplCsvOqG-D_",
        "outputId": "f3176ef6-750f-4d98-dece-adbd3a7b1df5"
      },
      "outputs": [
        {
          "output_type": "stream",
          "name": "stdout",
          "text": [
            "Epoch 1/100\n",
            "6809/6809 [==============================] - 38s 5ms/step - loss: 305179.6875 - mse: 305179.6875 - val_loss: 143501.3906 - val_mse: 143501.3906\n",
            "Epoch 2/100\n",
            "6809/6809 [==============================] - 27s 4ms/step - loss: 112570.8359 - mse: 112570.8359 - val_loss: 99808.5156 - val_mse: 99808.5156\n",
            "Epoch 3/100\n",
            "6809/6809 [==============================] - 24s 3ms/step - loss: 89118.5547 - mse: 89118.5547 - val_loss: 84074.0703 - val_mse: 84074.0703\n",
            "Epoch 4/100\n",
            "6809/6809 [==============================] - 25s 4ms/step - loss: 78524.7109 - mse: 78524.7109 - val_loss: 76065.9219 - val_mse: 76065.9219\n",
            "Epoch 5/100\n",
            "6809/6809 [==============================] - 34s 5ms/step - loss: 71864.7969 - mse: 71864.7969 - val_loss: 73808.1875 - val_mse: 73808.1875\n",
            "Epoch 6/100\n",
            "6809/6809 [==============================] - 26s 4ms/step - loss: 67937.5156 - mse: 67937.5156 - val_loss: 68622.9453 - val_mse: 68622.9453\n",
            "Epoch 7/100\n",
            "6809/6809 [==============================] - 26s 4ms/step - loss: 64793.2383 - mse: 64793.2383 - val_loss: 67335.5469 - val_mse: 67335.5469\n",
            "Epoch 8/100\n",
            "6809/6809 [==============================] - 24s 3ms/step - loss: 62399.1719 - mse: 62399.1719 - val_loss: 68031.6484 - val_mse: 68031.6484\n",
            "Epoch 9/100\n",
            "6809/6809 [==============================] - 28s 4ms/step - loss: 60153.8906 - mse: 60153.8906 - val_loss: 63944.8828 - val_mse: 63944.8828\n",
            "Epoch 10/100\n",
            "6809/6809 [==============================] - 34s 5ms/step - loss: 58673.8320 - mse: 58673.8320 - val_loss: 62119.2188 - val_mse: 62119.2188\n",
            "Epoch 11/100\n",
            "6809/6809 [==============================] - 26s 4ms/step - loss: 57412.8203 - mse: 57412.8203 - val_loss: 63403.5352 - val_mse: 63403.5352\n",
            "Epoch 12/100\n",
            "6809/6809 [==============================] - 24s 3ms/step - loss: 55888.4844 - mse: 55888.4844 - val_loss: 56906.0391 - val_mse: 56906.0391\n",
            "Epoch 13/100\n",
            "6809/6809 [==============================] - 25s 4ms/step - loss: 54883.1250 - mse: 54883.1250 - val_loss: 59522.2266 - val_mse: 59522.2266\n",
            "Epoch 14/100\n",
            "6809/6809 [==============================] - 25s 4ms/step - loss: 53665.8477 - mse: 53665.8477 - val_loss: 56447.7422 - val_mse: 56447.7422\n",
            "Epoch 15/100\n",
            "6809/6809 [==============================] - 24s 3ms/step - loss: 51891.4141 - mse: 51891.4141 - val_loss: 54559.8086 - val_mse: 54559.8086\n",
            "Epoch 16/100\n",
            "6809/6809 [==============================] - 26s 4ms/step - loss: 51036.4766 - mse: 51036.4766 - val_loss: 57854.0820 - val_mse: 57854.0820\n",
            "Epoch 17/100\n",
            "6809/6809 [==============================] - 24s 4ms/step - loss: 50367.7148 - mse: 50367.7148 - val_loss: 53106.6016 - val_mse: 53106.6016\n",
            "Epoch 18/100\n",
            "6809/6809 [==============================] - 24s 4ms/step - loss: 49249.8281 - mse: 49249.8281 - val_loss: 50568.6445 - val_mse: 50568.6445\n",
            "Epoch 19/100\n",
            "6809/6809 [==============================] - 25s 4ms/step - loss: 47466.5000 - mse: 47466.5000 - val_loss: 63958.2461 - val_mse: 63958.2461\n",
            "Epoch 20/100\n",
            "6809/6809 [==============================] - 23s 3ms/step - loss: 47238.1562 - mse: 47238.1562 - val_loss: 47991.7383 - val_mse: 47991.7383\n",
            "Epoch 21/100\n",
            "6809/6809 [==============================] - 25s 4ms/step - loss: 45744.7266 - mse: 45744.7266 - val_loss: 49790.4141 - val_mse: 49790.4141\n",
            "Epoch 22/100\n",
            "6809/6809 [==============================] - 25s 4ms/step - loss: 45025.7734 - mse: 45025.7734 - val_loss: 49389.9219 - val_mse: 49389.9219\n",
            "Epoch 23/100\n",
            "6809/6809 [==============================] - 24s 3ms/step - loss: 45051.8398 - mse: 45051.8398 - val_loss: 45938.0430 - val_mse: 45938.0430\n",
            "Epoch 24/100\n",
            "6809/6809 [==============================] - 25s 4ms/step - loss: 43984.9766 - mse: 43984.9766 - val_loss: 46336.4219 - val_mse: 46336.4219\n",
            "Epoch 25/100\n",
            "6809/6809 [==============================] - 24s 3ms/step - loss: 43268.3945 - mse: 43268.3945 - val_loss: 46255.7969 - val_mse: 46255.7969\n",
            "Epoch 26/100\n",
            "6809/6809 [==============================] - 25s 4ms/step - loss: 42712.3555 - mse: 42712.3555 - val_loss: 43814.9766 - val_mse: 43814.9766\n",
            "Epoch 27/100\n",
            "6809/6809 [==============================] - 25s 4ms/step - loss: 41975.1953 - mse: 41975.1953 - val_loss: 42194.7188 - val_mse: 42194.7188\n",
            "Epoch 28/100\n",
            "6809/6809 [==============================] - 23s 3ms/step - loss: 41498.3398 - mse: 41498.3398 - val_loss: 43079.1094 - val_mse: 43079.1094\n",
            "Epoch 29/100\n",
            "6809/6809 [==============================] - 26s 4ms/step - loss: 40905.5312 - mse: 40905.5312 - val_loss: 46527.7188 - val_mse: 46527.7188\n",
            "Epoch 30/100\n",
            "6809/6809 [==============================] - 26s 4ms/step - loss: 40600.8867 - mse: 40600.8867 - val_loss: 42500.3086 - val_mse: 42500.3086\n",
            "Epoch 31/100\n",
            "6809/6809 [==============================] - 23s 3ms/step - loss: 39911.4922 - mse: 39911.4922 - val_loss: 41092.4258 - val_mse: 41092.4258\n",
            "Epoch 32/100\n",
            "6809/6809 [==============================] - 25s 4ms/step - loss: 39404.4219 - mse: 39404.4219 - val_loss: 41375.8281 - val_mse: 41375.8281\n",
            "Epoch 33/100\n",
            "6809/6809 [==============================] - 26s 4ms/step - loss: 39034.2070 - mse: 39034.2070 - val_loss: 39037.8164 - val_mse: 39037.8164\n",
            "Epoch 34/100\n",
            "6809/6809 [==============================] - 23s 3ms/step - loss: 37969.0391 - mse: 37969.0391 - val_loss: 37390.2617 - val_mse: 37390.2617\n",
            "Epoch 35/100\n",
            "6809/6809 [==============================] - 26s 4ms/step - loss: 37566.1875 - mse: 37566.1875 - val_loss: 38431.2383 - val_mse: 38431.2383\n",
            "Epoch 36/100\n",
            "6809/6809 [==============================] - 24s 3ms/step - loss: 37476.0195 - mse: 37476.0195 - val_loss: 38076.3711 - val_mse: 38076.3711\n",
            "Epoch 37/100\n",
            "6809/6809 [==============================] - 25s 4ms/step - loss: 37226.6992 - mse: 37226.6992 - val_loss: 36686.4531 - val_mse: 36686.4531\n",
            "Epoch 38/100\n",
            "6809/6809 [==============================] - 25s 4ms/step - loss: 36146.3008 - mse: 36146.3008 - val_loss: 37844.3945 - val_mse: 37844.3945\n",
            "Epoch 39/100\n",
            "6809/6809 [==============================] - 24s 3ms/step - loss: 36098.8828 - mse: 36098.8828 - val_loss: 40809.5703 - val_mse: 40809.5703\n",
            "Epoch 40/100\n",
            "6809/6809 [==============================] - 25s 4ms/step - loss: 35180.1406 - mse: 35180.1406 - val_loss: 38307.0430 - val_mse: 38307.0430\n",
            "Epoch 41/100\n",
            "6809/6809 [==============================] - 26s 4ms/step - loss: 35409.7031 - mse: 35409.7031 - val_loss: 35289.0312 - val_mse: 35289.0312\n",
            "Epoch 42/100\n",
            "6809/6809 [==============================] - 23s 3ms/step - loss: 34617.4219 - mse: 34617.4219 - val_loss: 35478.9609 - val_mse: 35478.9609\n",
            "Epoch 43/100\n",
            "6809/6809 [==============================] - 26s 4ms/step - loss: 34430.7617 - mse: 34430.7617 - val_loss: 35846.7109 - val_mse: 35846.7109\n",
            "Epoch 44/100\n",
            "6809/6809 [==============================] - 26s 4ms/step - loss: 33611.2188 - mse: 33611.2188 - val_loss: 45260.7812 - val_mse: 45260.7812\n",
            "Epoch 45/100\n",
            "6809/6809 [==============================] - 23s 3ms/step - loss: 33235.2109 - mse: 33235.2109 - val_loss: 33463.2266 - val_mse: 33463.2266\n",
            "Epoch 46/100\n",
            "6809/6809 [==============================] - 26s 4ms/step - loss: 32612.9082 - mse: 32612.9082 - val_loss: 33239.5625 - val_mse: 33239.5625\n",
            "Epoch 47/100\n",
            "6809/6809 [==============================] - 28s 4ms/step - loss: 32506.0449 - mse: 32506.0449 - val_loss: 33401.0000 - val_mse: 33401.0000\n",
            "Epoch 48/100\n",
            "6809/6809 [==============================] - 24s 4ms/step - loss: 32208.7129 - mse: 32208.7129 - val_loss: 39543.7930 - val_mse: 39543.7930\n",
            "Epoch 49/100\n",
            "6809/6809 [==============================] - 26s 4ms/step - loss: 31477.8555 - mse: 31477.8555 - val_loss: 33059.1172 - val_mse: 33059.1172\n",
            "Epoch 50/100\n",
            "6809/6809 [==============================] - 26s 4ms/step - loss: 31145.1504 - mse: 31145.1504 - val_loss: 35215.2031 - val_mse: 35215.2031\n",
            "Epoch 51/100\n",
            "6809/6809 [==============================] - 23s 3ms/step - loss: 30620.7637 - mse: 30620.7637 - val_loss: 36769.7539 - val_mse: 36769.7539\n",
            "Epoch 52/100\n",
            "6809/6809 [==============================] - 26s 4ms/step - loss: 30881.9609 - mse: 30881.9609 - val_loss: 34393.2227 - val_mse: 34393.2227\n",
            "Epoch 53/100\n",
            "6809/6809 [==============================] - 26s 4ms/step - loss: 29768.2246 - mse: 29768.2246 - val_loss: 33684.2305 - val_mse: 33684.2305\n",
            "Epoch 54/100\n",
            "6809/6809 [==============================] - 23s 3ms/step - loss: 30253.7031 - mse: 30253.7031 - val_loss: 33111.6445 - val_mse: 33111.6445\n",
            "Epoch 55/100\n",
            "6809/6809 [==============================] - 26s 4ms/step - loss: 29150.8477 - mse: 29150.8477 - val_loss: 35175.8633 - val_mse: 35175.8633\n",
            "Epoch 56/100\n",
            "6809/6809 [==============================] - 26s 4ms/step - loss: 28886.0605 - mse: 28886.0605 - val_loss: 33904.2148 - val_mse: 33904.2148\n",
            "Epoch 57/100\n",
            "6809/6809 [==============================] - 23s 3ms/step - loss: 29043.0137 - mse: 29043.0137 - val_loss: 32555.2715 - val_mse: 32555.2715\n",
            "Epoch 58/100\n",
            "6809/6809 [==============================] - 26s 4ms/step - loss: 28407.9199 - mse: 28407.9199 - val_loss: 31626.6191 - val_mse: 31626.6191\n",
            "Epoch 59/100\n",
            "6809/6809 [==============================] - 28s 4ms/step - loss: 28506.6094 - mse: 28506.6094 - val_loss: 34792.1289 - val_mse: 34792.1289\n",
            "Epoch 60/100\n",
            "6809/6809 [==============================] - 24s 4ms/step - loss: 28435.4355 - mse: 28435.4355 - val_loss: 32183.8887 - val_mse: 32183.8887\n",
            "Epoch 61/100\n",
            "6809/6809 [==============================] - 26s 4ms/step - loss: 27887.1426 - mse: 27887.1426 - val_loss: 31370.4629 - val_mse: 31370.4629\n",
            "Epoch 62/100\n",
            "6809/6809 [==============================] - 28s 4ms/step - loss: 27451.3145 - mse: 27451.3145 - val_loss: 38798.8281 - val_mse: 38798.8281\n",
            "Epoch 63/100\n",
            "6809/6809 [==============================] - 23s 3ms/step - loss: 27321.3945 - mse: 27321.3945 - val_loss: 35522.1289 - val_mse: 35522.1289\n",
            "Epoch 64/100\n",
            "6809/6809 [==============================] - 26s 4ms/step - loss: 27039.5977 - mse: 27039.5977 - val_loss: 33195.1992 - val_mse: 33195.1992\n",
            "Epoch 65/100\n",
            "6809/6809 [==============================] - 25s 4ms/step - loss: 26332.8770 - mse: 26332.8770 - val_loss: 34877.0820 - val_mse: 34877.0820\n",
            "Epoch 66/100\n",
            "6809/6809 [==============================] - 24s 3ms/step - loss: 26227.6309 - mse: 26227.6309 - val_loss: 32869.1719 - val_mse: 32869.1719\n",
            "Epoch 67/100\n",
            "6809/6809 [==============================] - 25s 4ms/step - loss: 26368.5742 - mse: 26368.5742 - val_loss: 31666.1777 - val_mse: 31666.1777\n",
            "Epoch 68/100\n",
            "6809/6809 [==============================] - 33s 5ms/step - loss: 25855.9629 - mse: 25855.9629 - val_loss: 32841.6562 - val_mse: 32841.6562\n",
            "Epoch 69/100\n",
            "6809/6809 [==============================] - 24s 4ms/step - loss: 25733.3555 - mse: 25733.3555 - val_loss: 37655.1250 - val_mse: 37655.1250\n",
            "Epoch 70/100\n",
            "6809/6809 [==============================] - 25s 4ms/step - loss: 25773.3613 - mse: 25773.3613 - val_loss: 31834.5684 - val_mse: 31834.5684\n",
            "Epoch 71/100\n",
            "6809/6809 [==============================] - 27s 4ms/step - loss: 25174.9551 - mse: 25174.9551 - val_loss: 32908.5430 - val_mse: 32908.5430\n",
            "Epoch 72/100\n",
            "6809/6809 [==============================] - 24s 3ms/step - loss: 24629.2969 - mse: 24629.2969 - val_loss: 32491.3691 - val_mse: 32491.3691\n",
            "Epoch 73/100\n",
            "6809/6809 [==============================] - 26s 4ms/step - loss: 24337.1953 - mse: 24337.1953 - val_loss: 32014.2344 - val_mse: 32014.2344\n",
            "Epoch 74/100\n",
            "6809/6809 [==============================] - 25s 4ms/step - loss: 24125.1230 - mse: 24125.1230 - val_loss: 35622.4883 - val_mse: 35622.4883\n",
            "Epoch 75/100\n",
            "6809/6809 [==============================] - 23s 3ms/step - loss: 24572.7539 - mse: 24572.7539 - val_loss: 32976.2852 - val_mse: 32976.2852\n",
            "Epoch 76/100\n",
            "6809/6809 [==============================] - 26s 4ms/step - loss: 24157.6113 - mse: 24157.6113 - val_loss: 34821.3008 - val_mse: 34821.3008\n",
            "Epoch 77/100\n",
            "6809/6809 [==============================] - 27s 4ms/step - loss: 23942.1758 - mse: 23942.1758 - val_loss: 32908.9375 - val_mse: 32908.9375\n",
            "Epoch 78/100\n",
            "6809/6809 [==============================] - 24s 4ms/step - loss: 23651.3281 - mse: 23651.3281 - val_loss: 38429.1133 - val_mse: 38429.1133\n",
            "Epoch 79/100\n",
            "6809/6809 [==============================] - 27s 4ms/step - loss: 22978.9453 - mse: 22978.9453 - val_loss: 34401.3516 - val_mse: 34401.3516\n",
            "Epoch 80/100\n",
            "6809/6809 [==============================] - 28s 4ms/step - loss: 22581.5723 - mse: 22581.5723 - val_loss: 33754.3867 - val_mse: 33754.3867\n",
            "Epoch 81/100\n",
            "6809/6809 [==============================] - 24s 4ms/step - loss: 22855.0371 - mse: 22855.0371 - val_loss: 35034.0273 - val_mse: 35034.0273\n",
            "Epoch 82/100\n",
            "6809/6809 [==============================] - 26s 4ms/step - loss: 22271.0371 - mse: 22271.0371 - val_loss: 33090.2344 - val_mse: 33090.2344\n",
            "Epoch 83/100\n",
            "6809/6809 [==============================] - 27s 4ms/step - loss: 22184.3730 - mse: 22184.3730 - val_loss: 32456.7324 - val_mse: 32456.7324\n",
            "Epoch 84/100\n",
            "6809/6809 [==============================] - 23s 3ms/step - loss: 22340.9492 - mse: 22340.9492 - val_loss: 51988.7266 - val_mse: 51988.7266\n",
            "Epoch 85/100\n",
            "6809/6809 [==============================] - 26s 4ms/step - loss: 21652.7539 - mse: 21652.7539 - val_loss: 32307.2422 - val_mse: 32307.2422\n",
            "Epoch 86/100\n",
            "6809/6809 [==============================] - 24s 4ms/step - loss: 21666.9805 - mse: 21666.9805 - val_loss: 32413.7402 - val_mse: 32413.7402\n",
            "Epoch 87/100\n",
            "6809/6809 [==============================] - 24s 4ms/step - loss: 21133.2051 - mse: 21133.2051 - val_loss: 31719.7188 - val_mse: 31719.7188\n",
            "Epoch 88/100\n",
            "6809/6809 [==============================] - 26s 4ms/step - loss: 21046.7500 - mse: 21046.7500 - val_loss: 31276.0469 - val_mse: 31276.0469\n",
            "Epoch 89/100\n",
            "6809/6809 [==============================] - 24s 3ms/step - loss: 20953.1465 - mse: 20953.1465 - val_loss: 32749.8301 - val_mse: 32749.8301\n",
            "Epoch 90/100\n",
            "6809/6809 [==============================] - 25s 4ms/step - loss: 20873.3809 - mse: 20873.3809 - val_loss: 33421.4141 - val_mse: 33421.4141\n",
            "Epoch 91/100\n",
            "6809/6809 [==============================] - 25s 4ms/step - loss: 20202.7715 - mse: 20202.7715 - val_loss: 34988.1250 - val_mse: 34988.1250\n",
            "Epoch 92/100\n",
            "6809/6809 [==============================] - 24s 3ms/step - loss: 20713.4609 - mse: 20713.4609 - val_loss: 33574.4297 - val_mse: 33574.4297\n",
            "Epoch 93/100\n",
            "6809/6809 [==============================] - 26s 4ms/step - loss: 19785.9531 - mse: 19785.9531 - val_loss: 34584.3242 - val_mse: 34584.3242\n",
            "Epoch 94/100\n",
            "6809/6809 [==============================] - 23s 3ms/step - loss: 19663.2520 - mse: 19663.2520 - val_loss: 38129.3867 - val_mse: 38129.3867\n",
            "Epoch 95/100\n",
            "6809/6809 [==============================] - 26s 4ms/step - loss: 19574.3301 - mse: 19574.3301 - val_loss: 35263.1016 - val_mse: 35263.1016\n",
            "Epoch 96/100\n",
            "6809/6809 [==============================] - 25s 4ms/step - loss: 20029.7656 - mse: 20029.7656 - val_loss: 37040.7500 - val_mse: 37040.7500\n",
            "Epoch 97/100\n",
            "6809/6809 [==============================] - 24s 4ms/step - loss: 19285.0996 - mse: 19285.0996 - val_loss: 36542.2227 - val_mse: 36542.2227\n",
            "Epoch 98/100\n",
            "6809/6809 [==============================] - 26s 4ms/step - loss: 19207.3184 - mse: 19207.3184 - val_loss: 39155.0742 - val_mse: 39155.0742\n",
            "Epoch 99/100\n",
            "6809/6809 [==============================] - 26s 4ms/step - loss: 18536.6465 - mse: 18536.6465 - val_loss: 33821.7031 - val_mse: 33821.7031\n",
            "Epoch 100/100\n",
            "6809/6809 [==============================] - 24s 3ms/step - loss: 19074.9395 - mse: 19074.9395 - val_loss: 35174.3320 - val_mse: 35174.3320\n"
          ]
        },
        {
          "output_type": "execute_result",
          "data": {
            "text/plain": [
              "<keras.src.callbacks.History at 0x7c7761e54bb0>"
            ]
          },
          "metadata": {},
          "execution_count": 67
        }
      ],
      "source": [
        "# Train the regressor neural network model\n",
        "regressor_nn.fit(X_train_regressor_transformed, y_train_regressor, epochs=100, batch_size=32, validation_split=0.2)"
      ]
    },
    {
      "cell_type": "code",
      "execution_count": null,
      "metadata": {
        "colab": {
          "base_uri": "https://localhost:8080/"
        },
        "id": "ZwFGLmzAFv2Z",
        "outputId": "60ee647f-618a-4381-a473-4da88cf93318"
      },
      "outputs": [
        {
          "output_type": "stream",
          "name": "stdout",
          "text": [
            "8511/8511 [==============================] - 14s 2ms/step\n",
            "2128/2128 [==============================] - 4s 2ms/step\n"
          ]
        }
      ],
      "source": [
        "# Predict the yield using the trained regressor model\n",
        "y_train_regressor_pred = regressor_nn.predict(X_train_regressor_transformed)\n",
        "y_test_regressor_pred = regressor_nn.predict(X_test_regressor_transformed)"
      ]
    },
    {
      "cell_type": "code",
      "execution_count": null,
      "metadata": {
        "id": "DZUdc6T6UG1k"
      },
      "outputs": [],
      "source": [
        "# Reshape the predicted yield arrays to be two-dimensional\n",
        "y_train_regressor_pred_reshaped = y_train_regressor_pred.reshape(-1, 1)\n",
        "y_test_regressor_pred_reshaped = y_test_regressor_pred.reshape(-1, 1)"
      ]
    },
    {
      "cell_type": "code",
      "execution_count": null,
      "metadata": {
        "id": "H6rQB2uYCN3u"
      },
      "outputs": [],
      "source": [
        "# Convert models to TensorFlow Lite\n",
        "converter_yield = tf.lite.TFLiteConverter.from_keras_model(regressor_nn)\n",
        "yield_model_tflite = converter_yield.convert()"
      ]
    },
    {
      "cell_type": "code",
      "execution_count": null,
      "metadata": {
        "id": "vxITL9iLCOg6"
      },
      "outputs": [],
      "source": [
        "# Save the models\n",
        "with open('yield_model.tflite', 'wb') as f:\n",
        "    f.write(yield_model_tflite)"
      ]
    },
    {
      "cell_type": "code",
      "execution_count": null,
      "metadata": {
        "colab": {
          "base_uri": "https://localhost:8080/"
        },
        "id": "xnoVQWTTCQWO",
        "outputId": "c42c989a-9061-4bdc-e0f3-0e9cb88da957"
      },
      "outputs": [
        {
          "output_type": "execute_result",
          "data": {
            "text/plain": [
              "['preprocessor_regressor.pkl']"
            ]
          },
          "metadata": {},
          "execution_count": 75
        }
      ],
      "source": [
        "# Save preprocessors\n",
        "import joblib\n",
        "joblib.dump(preprocessor_regressor, 'preprocessor_regressor.pkl')"
      ]
    },
    {
      "cell_type": "code",
      "execution_count": null,
      "metadata": {
        "id": "Y3prps6ChGXM"
      },
      "outputs": [],
      "source": [
        "import numpy as np\n",
        "import pandas as pd\n",
        "import tensorflow as tf\n",
        "import joblib\n",
        "\n",
        "# Load preprocessors\n",
        "preprocessor_regressor = joblib.load('preprocessor_regressor.pkl')\n",
        "\n",
        "# Load TensorFlow Lite model\n",
        "interpreter_yield = tf.lite.Interpreter(model_path=\"/content/yield_model.tflite\")\n",
        "interpreter_yield.allocate_tensors()\n",
        "\n",
        "# Function to preprocess input data for the regressor\n",
        "def preprocess_input_regressor(state, district, crop, season, area, production, rainfall, ph, n_mg_kg, p_mg_kg, k_mg_kg):\n",
        "    input_data = pd.DataFrame([[state, district, crop, season, area, production, rainfall, ph, n_mg_kg, p_mg_kg, k_mg_kg]],\n",
        "                              columns=['State', 'District', 'Crop', 'Season', 'Area', 'Production', 'Rainfall', 'pH', 'N (mg/kg)', 'P (mg/kg)', 'K (mg/kg)'])\n",
        "    input_data_transformed = preprocessor_regressor.transform(input_data)\n",
        "\n",
        "    # Ensure the input data shape is correct for the model\n",
        "    if input_data_transformed.shape[1] != 829:\n",
        "        raise ValueError(f\"Input data shape {input_data_transformed.shape} does not match expected shape [1, 828]\")\n",
        "\n",
        "    return input_data_transformed\n",
        "\n",
        "# Function to predict yield\n",
        "def predict_yield(state, district, crop, season, area, production, rainfall, ph, n_mg_kg, p_mg_kg, k_mg_kg):\n",
        "    input_data_transformed = preprocess_input_regressor(state, district, crop, season, area, production, rainfall, ph, n_mg_kg, p_mg_kg, k_mg_kg)\n",
        "\n",
        "    # Convert to dense array\n",
        "    input_data_dense = input_data_transformed.toarray().astype(np.float32)\n",
        "\n",
        "    # Check shape of input data\n",
        "    if input_data_dense.shape[1] != 829:\n",
        "        raise ValueError(f\"Input data shape {input_data_dense.shape} does not match expected shape [1, 828]\")\n",
        "\n",
        "    input_index = interpreter_yield.get_input_details()[0]['index']\n",
        "    interpreter_yield.set_tensor(input_index, input_data_dense)\n",
        "    interpreter_yield.invoke()\n",
        "\n",
        "    output_index = interpreter_yield.get_output_details()[0]['index']\n",
        "    predicted_yield = interpreter_yield.get_tensor(output_index)\n",
        "\n",
        "    return predicted_yield[0][0]\n"
      ]
    },
    {
      "cell_type": "code",
      "execution_count": null,
      "metadata": {
        "colab": {
          "base_uri": "https://localhost:8080/"
        },
        "id": "NVXDIK0XhJAd",
        "outputId": "97171cdc-9b80-4115-b293-09f0d7a09026"
      },
      "outputs": [
        {
          "output_type": "stream",
          "name": "stdout",
          "text": [
            "Predicted Yield: 198.9000244140625\n"
          ]
        }
      ],
      "source": [
        "state = 'Tamil Nadu'\n",
        "district = 'ERODE'\n",
        "crop = 'Arecanut'\n",
        "season = 'Whole Year'\n",
        "area = 500\n",
        "production = 700\n",
        "rainfall = 200\n",
        "ph = 6\n",
        "n_mg_kg = 100\n",
        "p_mg_kg = 50\n",
        "k_mg_kg = 75\n",
        "\n",
        "# Predict yield\n",
        "predicted_yield = predict_yield(state, district, crop, season, area, production, rainfall, ph, n_mg_kg, p_mg_kg, k_mg_kg)\n",
        "print(f\"Predicted Yield: {predicted_yield}\")"
      ]
    }
  ],
  "metadata": {
    "colab": {
      "provenance": [],
      "include_colab_link": true
    },
    "kernelspec": {
      "display_name": "Python 3",
      "name": "python3"
    },
    "language_info": {
      "name": "python"
    }
  },
  "nbformat": 4,
  "nbformat_minor": 0
}